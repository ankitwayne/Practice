{
  "nbformat": 4,
  "nbformat_minor": 0,
  "metadata": {
    "kernelspec": {
      "display_name": "Python 3",
      "language": "python",
      "name": "python3"
    },
    "language_info": {
      "codemirror_mode": {
        "name": "ipython",
        "version": 3
      },
      "file_extension": ".py",
      "mimetype": "text/x-python",
      "name": "python",
      "nbconvert_exporter": "python",
      "pygments_lexer": "ipython3",
      "version": "3.8.5"
    },
    "colab": {
      "name": "IV Semester.ipynb",
      "provenance": [],
      "include_colab_link": true
    }
  },
  "cells": [
    {
      "cell_type": "markdown",
      "metadata": {
        "id": "view-in-github",
        "colab_type": "text"
      },
      "source": [
        "<a href=\"https://colab.research.google.com/github/ankitwayne/Python-Practice/blob/main/IV_Semester.ipynb\" target=\"_parent\"><img src=\"https://colab.research.google.com/assets/colab-badge.svg\" alt=\"Open In Colab\"/></a>"
      ]
    },
    {
      "cell_type": "code",
      "metadata": {
        "id": "Tv_wXIR28bmT",
        "outputId": "ec056d5b-4016-4537-b743-384470057853"
      },
      "source": [
        "def thing():\n",
        "    print('Hello') \n",
        "thing()"
      ],
      "execution_count": null,
      "outputs": [
        {
          "output_type": "stream",
          "text": [
            "Hello\n"
          ],
          "name": "stdout"
        }
      ]
    },
    {
      "cell_type": "code",
      "metadata": {
        "id": "XVlCpdQm8bmT"
      },
      "source": [
        "x = 'banana'\n",
        "y = max(x)\n",
        "z = y * 2"
      ],
      "execution_count": null,
      "outputs": []
    },
    {
      "cell_type": "code",
      "metadata": {
        "id": "5KnODte58bmU",
        "outputId": "98d02adf-6baa-496a-ee8f-3a6803fed7a7"
      },
      "source": [
        "def func(x) :\n",
        "    print(x)\n",
        "\n",
        "func(10)\n",
        "func(20)"
      ],
      "execution_count": null,
      "outputs": [
        {
          "output_type": "stream",
          "text": [
            "10\n",
            "20\n"
          ],
          "name": "stdout"
        }
      ]
    },
    {
      "cell_type": "code",
      "metadata": {
        "id": "8Xys3lZ98bmU",
        "outputId": "a37b66e5-c387-49ea-9ef5-a11e9cd6cad8"
      },
      "source": [
        "def stuff():\n",
        "    print('Hello')\n",
        "    return\n",
        "    print('World')\n",
        "\n",
        "stuff()"
      ],
      "execution_count": null,
      "outputs": [
        {
          "output_type": "stream",
          "text": [
            "Hello\n"
          ],
          "name": "stdout"
        }
      ]
    },
    {
      "cell_type": "code",
      "metadata": {
        "id": "9jq_lmHa8bmU",
        "outputId": "edc829d5-5577-4e51-90a0-4807d79213f2"
      },
      "source": [
        "def greet(lang):\n",
        "    if lang == 'es':\n",
        "        return 'Hola'\n",
        "    elif lang == 'fr':\n",
        "        return 'Bonjour'\n",
        "    else:\n",
        "        return 'Hello'\n",
        "\n",
        "print(greet('fr'),'Michael')"
      ],
      "execution_count": null,
      "outputs": [
        {
          "output_type": "stream",
          "text": [
            "Bonjour Michael\n"
          ],
          "name": "stdout"
        }
      ]
    },
    {
      "cell_type": "code",
      "metadata": {
        "id": "zNLiEScW8bmV",
        "outputId": "75bf796c-2151-4f36-c3be-b38dc2c9983f"
      },
      "source": [
        "def addtwo(a, b):\n",
        "    added = a + b\n",
        "    return a\n",
        "\n",
        "x = addtwo(2, 7)\n",
        "print(x)"
      ],
      "execution_count": null,
      "outputs": [
        {
          "output_type": "stream",
          "text": [
            "2\n"
          ],
          "name": "stdout"
        }
      ]
    },
    {
      "cell_type": "code",
      "metadata": {
        "id": "Ch2DtFh-8bmV",
        "outputId": "77a1df76-4bb3-4421-9ffe-862a35dfa9f1"
      },
      "source": [
        "largest = None\n",
        "smallest = None\n",
        "while True:\n",
        "try:\n",
        "num = raw_input(\"Enter a number: \")\n",
        "if num == \"done\":\n",
        "break\n",
        "#print (num)\n",
        "num = int(num)\n",
        "if largest is None or largest < num:\n",
        "largest = num\n",
        "elif smallest is None or smallest > num:\n",
        "smallest = num\n",
        "except ValueError:\n",
        "print(\"Invalid input\")\n",
        "\n",
        "print (\"Maximum is\", largest)\n",
        "print (\"Minimum is\", smallest)"
      ],
      "execution_count": null,
      "outputs": [
        {
          "output_type": "error",
          "ename": "IndentationError",
          "evalue": "expected an indented block (<ipython-input-8-8b6c39496a75>, line 4)",
          "traceback": [
            "\u001b[1;36m  File \u001b[1;32m\"<ipython-input-8-8b6c39496a75>\"\u001b[1;36m, line \u001b[1;32m4\u001b[0m\n\u001b[1;33m    try:\u001b[0m\n\u001b[1;37m    ^\u001b[0m\n\u001b[1;31mIndentationError\u001b[0m\u001b[1;31m:\u001b[0m expected an indented block\n"
          ]
        }
      ]
    },
    {
      "cell_type": "code",
      "metadata": {
        "id": "DgkSIpqr8bmW",
        "outputId": "1f68d3a9-af01-48bf-bd38-773ac4da4946"
      },
      "source": [
        "friends = ['Joseph', 'Glenn', 'Sally']\n",
        "for friend in friends :\n",
        "     print('Happy New Year:',  friend)\n",
        "print('Done!')"
      ],
      "execution_count": null,
      "outputs": [
        {
          "output_type": "stream",
          "text": [
            "Happy New Year: Joseph\n",
            "Happy New Year: Glenn\n",
            "Happy New Year: Sally\n",
            "Done!\n"
          ],
          "name": "stdout"
        }
      ]
    },
    {
      "cell_type": "code",
      "metadata": {
        "id": "_s2Q6sfs8bmX",
        "outputId": "17cc664c-11d2-4ebd-e9a1-3e9e05b4ed19"
      },
      "source": [
        "zork = 0\n",
        "for thing in [9, 41, 12, 3, 74, 15] :\n",
        "    zork = zork + thing\n",
        "print('After', zork)"
      ],
      "execution_count": null,
      "outputs": [
        {
          "output_type": "stream",
          "text": [
            "After 154\n"
          ],
          "name": "stdout"
        }
      ]
    },
    {
      "cell_type": "code",
      "metadata": {
        "id": "tjqPowff8bmY",
        "outputId": "4ee06236-80a0-483f-ebb5-f95d649cf59c"
      },
      "source": [
        "n = 0\n",
        "while n > 0 :\n",
        "    print('Lather')\n",
        "    print('Rinse')\n",
        "print('Dry off!')"
      ],
      "execution_count": null,
      "outputs": [
        {
          "output_type": "stream",
          "text": [
            "Dry off!\n"
          ],
          "name": "stdout"
        }
      ]
    },
    {
      "cell_type": "code",
      "metadata": {
        "id": "Ado02ftu8bmZ",
        "outputId": "f2f009bd-931d-4ee9-a08a-7f0ac3e3be94"
      },
      "source": [
        "tot = 0 \n",
        "for i in [5, 4, 3, 2, 1] :\n",
        "    tot = tot + 1\n",
        "print(tot)"
      ],
      "execution_count": null,
      "outputs": [
        {
          "output_type": "stream",
          "text": [
            "5\n"
          ],
          "name": "stdout"
        }
      ]
    },
    {
      "cell_type": "code",
      "metadata": {
        "id": "V2C9EtEi8bma",
        "outputId": "05e26d83-f47b-4eb5-c696-0f3a19517303"
      },
      "source": [
        "smallest_so_far = -1\n",
        "for the_num in [9, 41, 12, 3, 74, 15] :\n",
        "   if the_num < smallest_so_far :\n",
        "      smallest_so_far = the_num\n",
        "print(smallest_so_far)"
      ],
      "execution_count": null,
      "outputs": [
        {
          "output_type": "stream",
          "text": [
            "-1\n"
          ],
          "name": "stdout"
        }
      ]
    },
    {
      "cell_type": "code",
      "metadata": {
        "id": "hhTWoMm68bma",
        "outputId": "a6f784c9-b46a-4f79-964e-49150617639f"
      },
      "source": [
        "#Name : Ankit Mishra\n",
        "#Roll No : 2000320109002\n",
        "#Class : CSE2-A2\n",
        "#Practical Name : Maximum of list of numbers.\n",
        "def maxno(n):\n",
        "    max=0\n",
        "    for i in n:\n",
        "        if max<i:\n",
        "            max=i\n",
        "    return max\n",
        "\n",
        "a=[6,2,8,4,6,9,7,11,2]\n",
        "print('The maximum number is:',maxno(a))"
      ],
      "execution_count": null,
      "outputs": [
        {
          "output_type": "stream",
          "text": [
            "The maximum number is: 11\n"
          ],
          "name": "stdout"
        }
      ]
    },
    {
      "cell_type": "code",
      "metadata": {
        "id": "ha9AGBK-8bmb",
        "outputId": "021bd703-450f-49c4-d46e-8f02cfda77dc"
      },
      "source": [
        "#Name : Ankit Mishra\n",
        "#Roll No : 2000320109002\n",
        "#Class : CSE2-A2\n",
        "#Practical Name : Sum of Array except i\n",
        "n=int(input(\"Enter the size:\"))\n",
        "l=[]\n",
        "for i in range(0,n):\n",
        "    num=int(input(\"Enter No : \"))\n",
        "    l.append(num)\n",
        "sum=0\n",
        "for i in range(n):\n",
        " sum+=l[i]\n",
        "for i in range(n):\n",
        "        print(sum-l[i],end = ' , ')"
      ],
      "execution_count": null,
      "outputs": [
        {
          "output_type": "stream",
          "text": [
            "Enter the size:5\n",
            "Enter No : 2 5 6 8 6 \n"
          ],
          "name": "stdout"
        },
        {
          "output_type": "error",
          "ename": "ValueError",
          "evalue": "invalid literal for int() with base 10: '2 5 6 8 6 '",
          "traceback": [
            "\u001b[1;31m---------------------------------------------------------------------------\u001b[0m",
            "\u001b[1;31mValueError\u001b[0m                                Traceback (most recent call last)",
            "\u001b[1;32m<ipython-input-37-afca0d20f9ce>\u001b[0m in \u001b[0;36m<module>\u001b[1;34m\u001b[0m\n\u001b[0;32m      6\u001b[0m \u001b[0ml\u001b[0m\u001b[1;33m=\u001b[0m\u001b[1;33m[\u001b[0m\u001b[1;33m]\u001b[0m\u001b[1;33m\u001b[0m\u001b[1;33m\u001b[0m\u001b[0m\n\u001b[0;32m      7\u001b[0m \u001b[1;32mfor\u001b[0m \u001b[0mi\u001b[0m \u001b[1;32min\u001b[0m \u001b[0mrange\u001b[0m\u001b[1;33m(\u001b[0m\u001b[1;36m0\u001b[0m\u001b[1;33m,\u001b[0m\u001b[0mn\u001b[0m\u001b[1;33m)\u001b[0m\u001b[1;33m:\u001b[0m\u001b[1;33m\u001b[0m\u001b[1;33m\u001b[0m\u001b[0m\n\u001b[1;32m----> 8\u001b[1;33m     \u001b[0mnum\u001b[0m\u001b[1;33m=\u001b[0m\u001b[0mint\u001b[0m\u001b[1;33m(\u001b[0m\u001b[0minput\u001b[0m\u001b[1;33m(\u001b[0m\u001b[1;34m\"Enter No : \"\u001b[0m\u001b[1;33m)\u001b[0m\u001b[1;33m)\u001b[0m\u001b[1;33m\u001b[0m\u001b[1;33m\u001b[0m\u001b[0m\n\u001b[0m\u001b[0;32m      9\u001b[0m     \u001b[0ml\u001b[0m\u001b[1;33m.\u001b[0m\u001b[0mappend\u001b[0m\u001b[1;33m(\u001b[0m\u001b[0mnum\u001b[0m\u001b[1;33m)\u001b[0m\u001b[1;33m\u001b[0m\u001b[1;33m\u001b[0m\u001b[0m\n\u001b[0;32m     10\u001b[0m \u001b[0msum\u001b[0m\u001b[1;33m=\u001b[0m\u001b[1;36m0\u001b[0m\u001b[1;33m\u001b[0m\u001b[1;33m\u001b[0m\u001b[0m\n",
            "\u001b[1;31mValueError\u001b[0m: invalid literal for int() with base 10: '2 5 6 8 6 '"
          ]
        }
      ]
    },
    {
      "cell_type": "code",
      "metadata": {
        "id": "TraMLi-y8bmb",
        "outputId": "3072cf42-710d-44c4-b1da-f97d25655742"
      },
      "source": [
        "#Name : Ankit Mishra\n",
        "#Roll No : 2000320109002\n",
        "#Class : CSE2-A2\n",
        "#Practical Name : Even odd indexes sum in list\n",
        "\n",
        "l=[1,6,5,4,3,9,8,7]\n",
        "evensum=0\n",
        "oddsum=0\n",
        "for i in range(len(l)):\n",
        "    if i%2==0:\n",
        "        evensum=evensum+l[i]\n",
        "    else:\n",
        "        oddsum=oddsum+l[i]\n",
        "print(oddsum,evensum)\n",
        "\n"
      ],
      "execution_count": null,
      "outputs": [
        {
          "output_type": "stream",
          "text": [
            "26 17\n"
          ],
          "name": "stdout"
        }
      ]
    },
    {
      "cell_type": "code",
      "metadata": {
        "scrolled": true,
        "id": "JRIKE2Ef8bmc",
        "outputId": "7137ba8e-7866-476f-b0d7-6720b914f547"
      },
      "source": [
        "#Name : Ankit Mishra\n",
        "#Roll No : 2000320109002\n",
        "#Class : CSE2-A2\n",
        "#Practical Name : Find the Gcd of two number\n",
        "x=int(input(\"Enter the first Number : \"))\n",
        "y=int(input(\"Enter the second Number : \"))\n",
        "if x>y:\n",
        "    l=y\n",
        "else:\n",
        "    l=x\n",
        "for i in  range(1,l+1):\n",
        "    if((x%i==0)and(y%i==0)):\n",
        "        gcd=i\n",
        "print(\"Gcd of given numbers\", gcd)"
      ],
      "execution_count": null,
      "outputs": [
        {
          "output_type": "stream",
          "text": [
            "Enter the first Number : 54\n",
            "Enter the second Number : 64\n",
            "Gcd of given numbers 2\n",
            "Gcd of given numbers 2\n"
          ],
          "name": "stdout"
        }
      ]
    },
    {
      "cell_type": "code",
      "metadata": {
        "id": "26IWWSDs8bmc",
        "outputId": "8d4e8b1e-55a8-4571-db31-d7c16ac0ae25"
      },
      "source": [
        "#Name : Ankit Mishra\n",
        "#Roll No : 2000320109002\n",
        "#Class : CSE2-A2\n",
        "#Practical Name : Program to check palindrome.\n",
        "x = input(\"Enter the numbers : \")\n",
        " \n",
        "w = ''\n",
        "for i in x:\n",
        "    w = i + w\n",
        " \n",
        "if (x == w):\n",
        "    print(\"Yes, it is a palindrome\")\n",
        "else:\n",
        "    print(\"No, it isn't a palindrome\")"
      ],
      "execution_count": null,
      "outputs": [
        {
          "output_type": "stream",
          "text": [
            "Enter the numbers : 12321\n",
            "Yes, it is a palindrome\n"
          ],
          "name": "stdout"
        }
      ]
    },
    {
      "cell_type": "code",
      "metadata": {
        "id": "DEbfeEay8bmc",
        "outputId": "33a73dd3-9995-4785-8c5a-b4fe971c3495"
      },
      "source": [
        "#Name : Ankit Mishra\n",
        "#Roll No : 2000320109002\n",
        "#Class : CSE2-A2\n",
        "#Practical Name : Program to check a string for palindrome.\n",
        "\n",
        "def palindrome(x):\n",
        "    w = \"\"\n",
        "    for i in x:\n",
        "        w = i + w\n",
        " \n",
        "    if (x == w):\n",
        "        print(\"Yes, it is a palindrome\")\n",
        "    else:\n",
        "        print(\"No, it isn't a palindrome\")\n",
        "        \n",
        "y = input(\"Enter the String : \")\n",
        "palindrome(y)"
      ],
      "execution_count": null,
      "outputs": [
        {
          "output_type": "stream",
          "text": [
            "Enter the String : 1,2,3,2,1\n",
            "Yes, it is a palindrome\n"
          ],
          "name": "stdout"
        }
      ]
    },
    {
      "cell_type": "code",
      "metadata": {
        "id": "PA7xUlff8bmd"
      },
      "source": [
        "#Name : Ankit Mishra\n",
        "#Roll No : 2000320109002\n",
        "#Class : CSE2-A2\n",
        "#Practical Name : Removing Vowel from string.\n",
        "x = input(\"Enter any string: \")\n",
        "if x == 's':\n",
        "    exit();\n",
        "else:\n",
        "    w = x;\n",
        "    vow = ('a', 'e', 'i', 'o', 'u');\n",
        "    for s in x.lower():\n",
        "        if s in vow:\n",
        "            print(\"Vowels removed are : \",s);\n",
        "            w = w.replace(s,\"\");\n",
        "    print(\"New string after successfully removed all the vowels:\");\n",
        "    print(w);"
      ],
      "execution_count": null,
      "outputs": []
    },
    {
      "cell_type": "code",
      "metadata": {
        "id": "iO803aYg8bmd",
        "outputId": "0046ac4b-6c26-4d75-c4df-f63b0e80337f"
      },
      "source": [
        "#Name : Ankit Mishra\n",
        "#Roll No : 2000320109002\n",
        "#Class : CSE2-A2\n",
        "#Practical Name : Removing numbers from string.\n",
        "def delete(x):\n",
        "    w = []\n",
        "    for s in x.split():\n",
        "        if s.isdigit():\n",
        "             w.append(int(s))\n",
        "    print(\"Numbers removed are : \",w)\n",
        "y =input(\"Enter the string : \")\n",
        "delete(y)\n",
        "      "
      ],
      "execution_count": null,
      "outputs": [
        {
          "output_type": "stream",
          "text": [
            "Enter the string : bhjg 5khuhuj 6\n",
            "Numbers removed are :  [6]\n"
          ],
          "name": "stdout"
        }
      ]
    },
    {
      "cell_type": "code",
      "metadata": {
        "id": "DBdbuxld8bmd",
        "outputId": "b8b3f980-5f62-4277-ad56-2c7bfff74136"
      },
      "source": [
        "#Name : Ankit Mishra\n",
        "#Roll No : 2000320109002\n",
        "#Class : CSE2-A2\n",
        "#Practical Name : Power of a number\n",
        "x=int(input(\"Enter the number :  \"))\n",
        "y=int(input(\"Enter the power :  \"))\n",
        "pw=1\n",
        "for i in range(0,y):\n",
        "    pw=pw*x\n",
        "print(\"The power of number is : \",pw)\n",
        "    "
      ],
      "execution_count": null,
      "outputs": [
        {
          "output_type": "stream",
          "text": [
            "Enter the number :  5\n",
            "Enter the power :  3\n",
            "The power of number is :  125\n"
          ],
          "name": "stdout"
        }
      ]
    },
    {
      "cell_type": "code",
      "metadata": {
        "id": "Or_ZFley8bmd",
        "outputId": "ed7bffbb-0302-4b60-c37b-15420b410c17"
      },
      "source": [
        "#Name : Ankit Mishra\n",
        "#Roll No : 2000320109002\n",
        "#Class : CSE2-A2\n",
        "#Practical Name : Newton method to find the squre root\n",
        "def newton_root(num, iters = 100):\n",
        "    a = float(num) \n",
        "    for i in range(iters): \n",
        "        num = 0.5 * (num + a / num) \n",
        "    return num\n",
        "a=int(input(\"Enter number:\"))\n",
        "print(\"Square root of number:\",newton_root(a))"
      ],
      "execution_count": null,
      "outputs": [
        {
          "output_type": "stream",
          "text": [
            "Enter number:5\n",
            "Square root of number: 2.23606797749979\n"
          ],
          "name": "stdout"
        }
      ]
    },
    {
      "cell_type": "code",
      "metadata": {
        "id": "anEOvhI68bme",
        "outputId": "b6db6bae-7e23-4f5a-f604-add911ddf8bb"
      },
      "source": [
        "#Name : Ankit Mishra\n",
        "#Roll No : 2000320109002\n",
        "#Class : CSE2-A2\n",
        "#Practical Name : Program for first n Prime number\n",
        "n=int(input(\"Enter a number : \"))\n",
        "l=[]\n",
        "for i in range(2, n+1):\n",
        "    for j in range(2,i):\n",
        "        if(i % j==0):\n",
        "            break\n",
        "    else:\n",
        "        l.append(i)\n",
        "print(l)"
      ],
      "execution_count": null,
      "outputs": [
        {
          "output_type": "stream",
          "text": [
            "Enter a number : 32\n",
            "[2, 3, 5, 7, 11, 13, 17, 19, 23, 29, 31]\n"
          ],
          "name": "stdout"
        }
      ]
    },
    {
      "cell_type": "code",
      "metadata": {
        "id": "HGEna7Nl8bmf",
        "outputId": "432d2692-99fd-4b7d-eff3-3eeef12310ff"
      },
      "source": [
        "\n",
        "def newton_method(number, number_iters = 100):\n",
        "\n",
        "    a = float(number) \n",
        "\n",
        "    for i in range(number_iters): \n",
        "\n",
        "        number = 0.5 * (number + a / number) \n",
        "\n",
        "    return number\n",
        "\n",
        "a=int(input(\"Enter first number:\"))\n",
        "\n",
        "b=int(input(\"Enter second number:\"))\n",
        "\n",
        "print(\"Square root of first number:\",newton_method(a))\n",
        "\n",
        "print(\"Square root of second number:\",newton_method(b))"
      ],
      "execution_count": null,
      "outputs": [
        {
          "output_type": "stream",
          "text": [
            "Enter first number:81\n",
            "Enter second number:5\n",
            "Square root of first number: 9.0\n",
            "Square root of second number: 2.23606797749979\n"
          ],
          "name": "stdout"
        }
      ]
    },
    {
      "cell_type": "code",
      "metadata": {
        "id": "Lyk2ac608bmg",
        "outputId": "caec3482-de68-4460-deda-438ae5bf4185"
      },
      "source": [
        "#Name : Ankit Mishra\n",
        "#Roll No : 2000320109002\n",
        "#Class : CSE2-A2\n",
        "#Practical Name : Program for Linear Search\n",
        "\n",
        "def linsearch(list,key):\n",
        "    for i in range(len(list)):\n",
        "        if list[i]==key:\n",
        "            return i\n",
        "    return -1\n",
        "\n",
        "list=[12,35,54,18,65,45,17,66]\n",
        "print(list)\n",
        "x=int(input(\"Input number from below list to search its index: \"))\n",
        "\n",
        "loc=linsearch(list,x)\n",
        "print(\"The Index of element is :-\",loc)"
      ],
      "execution_count": null,
      "outputs": [
        {
          "output_type": "stream",
          "text": [
            "[12, 35, 54, 18, 65, 45, 17, 66]\n",
            "Input number from below list to search its index: 17\n",
            "The Index of element is :- 6\n"
          ],
          "name": "stdout"
        }
      ]
    },
    {
      "cell_type": "code",
      "metadata": {
        "id": "kTE5UhfM8bmg",
        "outputId": "50006ca2-81f5-4c82-dafa-e44df2992b42"
      },
      "source": [
        "#Name : Ankit Mishra\n",
        "#Roll No : 2000320109002\n",
        "#Class : CSE2-A2\n",
        "#Practical Name : Program for Recursive Binary Search\n",
        "\n",
        "def binsearch(list2,low,high,key):\n",
        "    if low<=high:\n",
        "        mid=(low+high)//2\n",
        "        if list2[mid]==key:\n",
        "            return mid\n",
        "        elif list2[mid]>key:\n",
        "            return binsearch(list2, low, mid-1, key)\n",
        "        else:\n",
        "            return binsearch(list2, mid+1, high, key)\n",
        "    else:\n",
        "        return -1\n",
        "    \n",
        "list2=[1,2,3,4,5,6,7,8,9,10,11,12,13,14,15,16,17]\n",
        "print(list2)\n",
        "key=int(input(\"Input number from below list to search its index: \"))\n",
        "loc=binsearch(list2,0,len(list2)-1, key)\n",
        "print(\"The Index of element is :-\",loc)\n",
        "\n",
        "        "
      ],
      "execution_count": null,
      "outputs": [
        {
          "output_type": "stream",
          "text": [
            "[1, 2, 3, 4, 5, 6, 7, 8, 9, 10, 11, 12, 13, 14, 15, 16, 17]\n",
            "Input number from below list to search its index: 7\n",
            "The Index of element is :- 6\n"
          ],
          "name": "stdout"
        }
      ]
    },
    {
      "cell_type": "code",
      "metadata": {
        "id": "Y-h3iKjF8bmh",
        "outputId": "56c5f09b-eb06-410f-9a2a-22158412cb0c"
      },
      "source": [
        "#Name : Ankit Mishra\n",
        "#Roll No : 2000320109002\n",
        "#Class : CSE2-A2\n",
        "#Practical Name : Program for Iterative Binary Search\n",
        "def binasearch(list3,key):\n",
        "    l,h,m=0, len(list3)-1,0\n",
        "    while l<=h:                # [l,h]= lower element, higher element\n",
        "        m=(h+l)//2\n",
        "        if list3[m]<key:       # [m]= middle element\n",
        "            l=m+1\n",
        "        elif list3[m]>key:\n",
        "            h=m-1\n",
        "        else:\n",
        "            return m\n",
        "    return -1\n",
        "\n",
        "list3=[1,2,3,4,5,6,7,8,9,10,11,12,13,14,15,16,17]\n",
        "print(list3)\n",
        "key=int(input(\"Input number from below list to search its index: \"))\n",
        "loc=binasearch(list3,key)\n",
        "print(\"The Index of element is :-\",loc)"
      ],
      "execution_count": null,
      "outputs": [
        {
          "output_type": "stream",
          "text": [
            "[1, 2, 3, 4, 5, 6, 7, 8, 9, 10, 11, 12, 13, 14, 15, 16, 17]\n",
            "Input number from below list to search its index: 11\n",
            "The Index of element is :- 10\n"
          ],
          "name": "stdout"
        }
      ]
    },
    {
      "cell_type": "code",
      "metadata": {
        "id": "cMvi64eh8bmh",
        "outputId": "e7e7b3e3-483e-48e0-97a5-29e87f89f1e6"
      },
      "source": [
        "#Name : Ankit Mishra\n",
        "#Roll No : 2000320109002\n",
        "#Class : CSE2-A2\n",
        "#Practical Name : Program for Bubble sort\n",
        "\n",
        "def bubblesort(list):\n",
        "    key=len(list)\n",
        "    for i in range(key):\n",
        "        for j in range(0,key-i-1):\n",
        "            if list[j]>list[j+1]:\n",
        "                list[j],list[j+1]=list[j+1],list[j]\n",
        "\n",
        "list1=[12,45,16,52,3,14,25,31,29]\n",
        "x=bubblesort(list1)\n",
        "print(list1)\n",
        "\n",
        "\n",
        "\n",
        "list2=[99,45,62,33,44,75,82,31,51,64]\n",
        "y=bubblesort(list2)\n",
        "print(list2)\n"
      ],
      "execution_count": null,
      "outputs": [
        {
          "output_type": "stream",
          "text": [
            "[3, 12, 14, 16, 25, 29, 31, 45, 52]\n",
            "[31, 33, 44, 45, 51, 62, 64, 75, 82, 99]\n"
          ],
          "name": "stdout"
        }
      ]
    },
    {
      "cell_type": "code",
      "metadata": {
        "scrolled": true,
        "id": "GvqwlwZI8bmi",
        "outputId": "7a642b09-0396-4beb-cc64-5ddc59b88cc8"
      },
      "source": [
        "#Name : Ankit Mishra\n",
        "#Roll No : 2000320109002\n",
        "#Class : CSE2-A2\n",
        "#Practical Name : Program for Selection sort\n",
        "def selectionsort(list1):\n",
        "    key=len(list1)\n",
        "    for i in range( key - 1 ): \n",
        "        minind = i                  #Minimum Index\n",
        "        for j in range( i + 1, key ):\n",
        "            if list1[j] <list1[minind]:\n",
        "                minind=j\n",
        "        if minind!= i :\n",
        "            temp = list1[i]\n",
        "            list1[i] =list1[minind]\n",
        "            list1[minind] = temp\n",
        "    return list1\n",
        "\n",
        "list1=[12,45,16,52,3,14,25,31,29]\n",
        "x=selectionsort(list1)\n",
        "print(list1)\n",
        "\n",
        "list2=[99,45,62,33,44,75,82,31,51,64]\n",
        "y=selectionsort(list2)\n",
        "print(list2)"
      ],
      "execution_count": null,
      "outputs": [
        {
          "output_type": "stream",
          "text": [
            "[3, 12, 14, 16, 25, 29, 31, 45, 52]\n",
            "[31, 33, 44, 45, 51, 62, 64, 75, 82, 99]\n"
          ],
          "name": "stdout"
        }
      ]
    },
    {
      "cell_type": "code",
      "metadata": {
        "id": "V3cnDJ2t8bmi",
        "outputId": "f6651d74-e4da-41b4-f52d-a233a05ce90e"
      },
      "source": [
        "#Name : Ankit Mishra\n",
        "#Roll No : 2000320109002\n",
        "#Class : CSE2-A2\n",
        "#Practical Name : Program for Insertion sort\n",
        "def insertsort(arr):\n",
        "    for i in range(1,len(arr)):\n",
        "        data=arr[i]\n",
        "        j=i-1\n",
        "        while j>=0 and data<arr[j]:\n",
        "            arr[j+1]=arr[j]\n",
        "            j-=1\n",
        "        arr[j+1]=data\n",
        "\n",
        "l=[5,6,8,0,4,9]\n",
        "print(\"Given elements are :\",l)\n",
        "insertsort(l)\n",
        "print(\"Sorted elements are : \",l)\n",
        "\n",
        "\n",
        "l=[11,16,12,14,22,19]\n",
        "print(\"Given elements are :\",l)\n",
        "insertsort(l)\n",
        "print(\"Sorted elements are : \",l)\n",
        "    "
      ],
      "execution_count": null,
      "outputs": [
        {
          "output_type": "stream",
          "text": [
            "Given elements are : [5, 6, 8, 0, 4, 9]\n",
            "Sorted elements are :  [0, 4, 5, 6, 8, 9]\n",
            "Given elements are : [11, 16, 12, 14, 22, 19]\n",
            "Sorted elements are :  [11, 12, 14, 16, 19, 22]\n"
          ],
          "name": "stdout"
        }
      ]
    },
    {
      "cell_type": "code",
      "metadata": {
        "id": "kPW-krep8bmi",
        "outputId": "c4b095c5-f11b-4418-ceb3-3292e2fa2ab7"
      },
      "source": [
        "#Name : Ankit Mishra\n",
        "#Roll No : 2000320109002\n",
        "#Class : CSE2-A2\n",
        "#Practical Name : Program for Selection sort\n",
        "def selectsort(arr):\n",
        "    for i in range(len(arr)-1):\n",
        "        mi=i\n",
        "        for j in range(i+1,len(arr)-1):\n",
        "            if arr[mi]>arr[j]:\n",
        "                mi=j\n",
        "        arr[i],arr[mi]=arr[mi],arr[i]\n",
        "        \n",
        "l=[3,5,2,8,6]\n",
        "print(\"Given elements are :\",l)\n",
        "selectsort(l)\n",
        "print(\"Sorted elements are : \",l)\n",
        "\n",
        "\n",
        "l=[13,15,12,18,16]\n",
        "print(\"Given elements are :\",l)\n",
        "selectsort(l)\n",
        "print(\"Sorted elements are : \",l)"
      ],
      "execution_count": null,
      "outputs": [
        {
          "output_type": "stream",
          "text": [
            "Given elements are : [3, 5, 2, 8, 6]\n",
            "Sorted elements are :  [2, 3, 5, 8, 6]\n",
            "Given elements are : [13, 15, 12, 18, 16]\n",
            "Sorted elements are :  [12, 13, 15, 18, 16]\n"
          ],
          "name": "stdout"
        }
      ]
    },
    {
      "cell_type": "code",
      "metadata": {
        "id": "Kavq1q8q8bmj",
        "outputId": "5f902cb0-cb32-4c66-e2a3-07b9aba2f6cb"
      },
      "source": [
        "#Name : Ankit Mishra\n",
        "#Roll No : 2000320109002\n",
        "#Class : CSE2-A2\n",
        "#Practical Name : Program for Merge sort\n",
        "def mergesort(a):\n",
        "    if len(a)>1:\n",
        "        m=len(a)//2\n",
        "        l=a[:m]\n",
        "        r=a[m:]\n",
        "        \n",
        "        mergesort(l)\n",
        "        mergesort(r)\n",
        "        \n",
        "        i=0\n",
        "        j=0\n",
        "        k=0\n",
        "        while i<len(l) and j<len(r):\n",
        "            if l[i]<r[j]:\n",
        "                a[k]=l[i]\n",
        "                i+=1\n",
        "            else:\n",
        "                a[k]=r[j]\n",
        "                j+=1\n",
        "            k+=1\n",
        "            \n",
        "        while i<len(l):\n",
        "            a[k]=l[i]\n",
        "            i+=1\n",
        "            k+=1\n",
        "        while j<len(r):\n",
        "            a[k]=r[j]\n",
        "            j+=1\n",
        "            k+=1\n",
        "                    \n",
        "a=[12,13,15,19,14,16]\n",
        "print(\"Given elements are : \",a)\n",
        "mergesort(a)\n",
        "print(\"Sorted elements are : \",a)\n",
        "\n",
        "a=[9,4,6,2,7,8,5,3,1]\n",
        "print(\"Given elements are : \",a)\n",
        "mergesort(a)\n",
        "print(\"Sorted elements are : \",a)"
      ],
      "execution_count": null,
      "outputs": [
        {
          "output_type": "stream",
          "text": [
            "Given elements are :  [12, 13, 15, 19, 14, 16]\n",
            "Sorted elements are :  [12, 13, 14, 15, 16, 19]\n",
            "Given elements are :  [9, 4, 6, 2, 7, 8, 5, 3, 1]\n",
            "Sorted elements are :  [1, 2, 3, 4, 5, 6, 7, 8, 9]\n"
          ],
          "name": "stdout"
        }
      ]
    },
    {
      "cell_type": "code",
      "metadata": {
        "id": "T1yh0hrT8bmj",
        "outputId": "298baf1a-6120-4ab1-c0a8-603f512ae6f3"
      },
      "source": [
        "#Name : Ankit Mishra\n",
        "#Roll No : 2000320109002\n",
        "#Class : CSE2-A2\n",
        "#Practical Name : Program for Quick sort\n",
        "def partition(arr, beg, end):\n",
        "    a=(beg-1)\n",
        "    mid=arr[end]\n",
        "    for i in range(beg, end):\n",
        "        if arr[i]<=mid:\n",
        "            a=a+1\n",
        "            arr[a],arr[i]=arr[i],arr[a]\n",
        "    arr[a+1],arr[end]=arr[end],arr[a+1]\n",
        "    return (a+1)\n",
        "def quick(arr, beg, end):\n",
        "    if beg<end:\n",
        "       mid=partition(arr,beg, end)\n",
        "       quick(arr,beg, mid-1)\n",
        "       quick(arr, mid+1, end)\n",
        "    S\n",
        "a=[2,8,6,4,9,3,1]\n",
        "print(\"Given array is: \",a)\n",
        "quick(a,0,len(a)-1)\n",
        "print(\"Sorted array is: \",a)\n",
        "a=[9,4,6,2,7,8,5,3,1]\n",
        "print(\"Given elements are : \",a)\n",
        "quick(a,0,len(a)-1)\n",
        "print(\"Sorted array is: \",a)"
      ],
      "execution_count": null,
      "outputs": [
        {
          "output_type": "stream",
          "text": [
            "Given array is:  [2, 8, 6, 4, 9, 3, 1]\n",
            "Sorted array is:  [1, 2, 3, 4, 6, 8, 9]\n",
            "Given elements are :  [9, 4, 6, 2, 7, 8, 5, 3, 1]\n",
            "Sorted array is:  [1, 2, 3, 4, 5, 6, 7, 8, 9]\n"
          ],
          "name": "stdout"
        }
      ]
    },
    {
      "cell_type": "code",
      "metadata": {
        "id": "AzmTsS6s8bmk"
      },
      "source": [
        "class Student:\n",
        "    def __init__(self, name, rollno, marks, attendance):\n",
        "        self.name = name\n",
        "        self.rollno = rollno\n",
        "        self.marks = marks\n",
        "        self.attendance = attendance\n",
        "    def accept(self, Name, Rollno, marks1, marks2 ):\n",
        "        # use  ' int(input()) ' method to take input from user\n",
        "        ob = Student(Name, Rollno, marks1, marks2 )\n",
        "        ls.append(ob)\n",
        "    def display(self, ob):\n",
        "        print(\"Name   : \", ob.name)\n",
        "        print(\"RollNo : \", ob.rollno)\n",
        "        print(\"Marks1 : \", ob.m1)\n",
        "        print(\"Marks2 : \", ob.m2)\n",
        "        print(\"\\n\")"
      ],
      "execution_count": null,
      "outputs": []
    },
    {
      "cell_type": "code",
      "metadata": {
        "id": "BfPzXTix8bmk",
        "outputId": "9df3c181-4df5-4806-e912-bb9c8b231b6e"
      },
      "source": [
        "a=25\n",
        "\n",
        "b=50\n",
        "for i in range(a, b+ 1):\n",
        "   # all prime numbers are greater than 1\n",
        "   if i > 1:\n",
        "       for j in range(2, i):\n",
        "           if (i % j) == 0:\n",
        "               break\n",
        "       else:\n",
        "           print(i)"
      ],
      "execution_count": null,
      "outputs": [
        {
          "output_type": "stream",
          "text": [
            "29\n",
            "31\n",
            "37\n",
            "41\n",
            "43\n",
            "47\n"
          ],
          "name": "stdout"
        }
      ]
    },
    {
      "cell_type": "code",
      "metadata": {
        "id": "Y3YaxY4I8bmk",
        "outputId": "4bdef7a6-23b9-4ff4-f68f-a1ae8b13070d"
      },
      "source": [
        "def sum(x, y):\n",
        "    sum = (x+y)\n",
        "    for sum in range(15, 20):\n",
        "        return 20\n",
        "    else:\n",
        "        return sum\n",
        "    \n",
        "a=input()\n",
        "b=input()\n",
        "r=sum(a,b)\n",
        "print(r)"
      ],
      "execution_count": null,
      "outputs": [
        {
          "output_type": "stream",
          "text": [
            "10\n",
            "2\n",
            "20\n"
          ],
          "name": "stdout"
        }
      ]
    },
    {
      "cell_type": "code",
      "metadata": {
        "id": "xDuwBTl58bmk",
        "outputId": "3d184dd8-444b-4987-e67c-6edd2cf1b484"
      },
      "source": [
        "n = 4\n",
        "for i in range(1,2*n):\n",
        "    for j in range(1,2*n):\n",
        "        if i==j or i+j==2*n:\n",
        "            print('*', end=' ')\n",
        "        else:\n",
        "            print(' ', end='  ')\n",
        "    print()"
      ],
      "execution_count": null,
      "outputs": [
        {
          "output_type": "stream",
          "text": [
            "*                * \n",
            "   *          *    \n",
            "      *    *       \n",
            "         *          \n",
            "      *    *       \n",
            "   *          *    \n",
            "*                * \n"
          ],
          "name": "stdout"
        }
      ]
    },
    {
      "cell_type": "code",
      "metadata": {
        "id": "VfhTXoUj8bml",
        "outputId": "2d1a40f6-4c37-4f42-8dc4-3058c5139c39"
      },
      "source": [
        "class queue:\n",
        "    def __init__(self,size):\n",
        "        self.queue=[]\n",
        "        self.size=size\n",
        "    def isfull(self):\n",
        "        return len(self.queue)==self.size\n",
        "    def isempty(self):\n",
        "        self.isempty==[]\n",
        "    def enqueue(self,elem):\n",
        "        if(self.isfull()!=True):\n",
        "            return self.queue.insert(0,elem)\n",
        "        else:\n",
        "            print(\"Queue is Full\")\n",
        "    def dequeue(self):\n",
        "        if(self.isempty()!=True):\n",
        "            return self.queue.pop()\n",
        "        else:\n",
        "            print(\"Queue is Empty\")\n",
        "q=queue(9)\n",
        "\n",
        "q.enqueue(2)\n",
        "q.enqueue(3)\n",
        "q.enqueue(4)\n",
        "q.enqueue(5)\n",
        "q.enqueue(6)\n",
        "q.enqueue(7)\n",
        "print(\"Queue formed after enque operation :\",q.queue)\n",
        "print(\"Deleted Item is :\",q.dequeue())\n",
        "print(q.queue)\n"
      ],
      "execution_count": null,
      "outputs": [
        {
          "output_type": "stream",
          "text": [
            "Queue formed after enque operation : [7, 6, 5, 4, 3, 2]\n"
          ],
          "name": "stdout"
        }
      ]
    },
    {
      "cell_type": "code",
      "metadata": {
        "id": "YE9bwpIv8bml",
        "outputId": "65c0d7c9-5fe8-4d57-fac6-ec7b3e8d0ee1"
      },
      "source": [
        "#Name : Ankit Mishra\n",
        "#Roll No : 2000320109002\n",
        "#Class : CSE2-A2\n",
        "#Practical Name : Program for Linked list\n",
        "class Node:\n",
        "    def __init__(self,data=None):\n",
        "        self.data= data\n",
        "        self.next= None   \n",
        "        \n",
        "class singlelist:\n",
        "    def __init__(self):\n",
        "        self.head= None\n",
        "        self.tail= None\n",
        "    \n",
        "    def addbeg(self, data):\n",
        "        node=Node(data)\n",
        "        if self.head== None:\n",
        "            self.head=node\n",
        "            self.tail=node\n",
        "        else:\n",
        "            node.next=self.head\n",
        "            self.head=node\n",
        "            \n",
        "    def addaft(self,node,new_data):\n",
        "        if node is None:\n",
        "            print(\"Node is absent\")\n",
        "            return\n",
        "        new_node=Node(new_data)\n",
        "        new_node.next=node.next\n",
        "        node.next=new_node\n",
        "            \n",
        "    def addend(self, data):\n",
        "        node=Node(data)\n",
        "        if self.head== None:\n",
        "            self.head=node\n",
        "            self.tail=node\n",
        "        else:\n",
        "            self.tail.next=node\n",
        "            self.tail=node\n",
        "            \n",
        "    def delbeg(self):\n",
        "        if self.head==None:\n",
        "            print(\"List is Empty\")\n",
        "        elif self.head==self.tail:\n",
        "            t=self.head\n",
        "            self.head =self.tail=None\n",
        "            del t\n",
        "        else:\n",
        "            t=self.head\n",
        "            self.head=t.next\n",
        "            del t\n",
        "      \n",
        "    def delend(self):\n",
        "        if self.head==None:\n",
        "            print(\"List is Empty\")\n",
        "        elif self.head==self.tail:\n",
        "            t=self.head\n",
        "            self.head =self.tail=None\n",
        "            del t\n",
        "        else:\n",
        "            t=self.head\n",
        "            while t.next!=self.tail:\n",
        "                t=t.next\n",
        "            t.next=None\n",
        "            self.tail=t\n",
        "            del t\n",
        "            \n",
        "    def traverse(self):\n",
        "        t=self.head\n",
        "        while t!=None:\n",
        "            if t.next!=None:\n",
        "                print(t.data,end=\"->\")\n",
        "            else:\n",
        "                print(t.data)\n",
        "            t=t.next\n",
        "l=singlelist()\n",
        "l.addbeg(10)\n",
        "l.addbeg(20)\n",
        "l.addbeg(30)\n",
        "l.addbeg(40)\n",
        "print(\"List after Addbeg operations :\")\n",
        "l.traverse()\n",
        "l.addend(500)\n",
        "l.addend(100)\n",
        "print(\"List after Addend operations :\")\n",
        "l.traverse()\n",
        "l.delbeg()\n",
        "print(\"List after delbeg operations :\")\n",
        "l.traverse()\n",
        "l.delend()\n",
        "print(\"List after delend operations :\")\n",
        "l.traverse()"
      ],
      "execution_count": null,
      "outputs": [
        {
          "output_type": "stream",
          "text": [
            "List after Addbeg operations :\n",
            "40->30->20->10\n",
            "List after Addend operations :\n",
            "40->30->20->10->500->100\n",
            "List after delbeg operations :\n",
            "30->20->10->500->100\n",
            "List after delend operations :\n",
            "30->20->10->500\n"
          ],
          "name": "stdout"
        }
      ]
    },
    {
      "cell_type": "code",
      "metadata": {
        "id": "K7Ks72qu8bml"
      },
      "source": [
        "#Name : Ankit Mishra\n",
        "#Roll No : 2000320109002\n",
        "#Class : CSE2-A2\n",
        "#Practical Name : Count of Vowel in given string\n",
        "\n",
        "\n",
        "def Count_Vowel(stri):         \n",
        "    vow=0                                                                                                        #Initially Considering vowel count 0S\n",
        "    for i in stri:                                                                                                  #Checking Each word of string\n",
        "        if (i =='a' or i =='e' or i =='i' or i =='o' \n",
        "            or i =='u' or i =='A' or i =='E' or i =='I' or i =='O' or i =='U'):  #Comparing them with vowel and increase count of vow\n",
        "            vow=vow+1                                                                                        #Increasing vowel count by 1 for each same entry\n",
        "    print(\"Number of vowels in String is :\", vow)                                #Printing Number of vowels Found\n",
        "    \n",
        "string= input(\"Enter a String :\")                                                              #taking Input from user            \n",
        "Count_Vowel(string)                                                                                   #processing input through above function"
      ],
      "execution_count": null,
      "outputs": []
    },
    {
      "cell_type": "code",
      "metadata": {
        "id": "OUcaLkh38bmm",
        "outputId": "cba6b65c-8970-4042-abb5-2c8f9a417b81"
      },
      "source": [
        "#Name : Ankit Mishra\n",
        "#Roll No : 2000320109002\n",
        "#Class : CSE2-A2\n",
        "#Practical Name : Count of Vowel in given string\n",
        "def Count_Vowel(string):\n",
        "    vowels = \"AaEeIiOoUu\"\n",
        "    final = [each for each in string if each in vowels]                       #Checking Each word of strin\n",
        "    print(\"Count of Vowels are :\",len(final))\n",
        "    print(\"Vowels are: \",final)\n",
        "     \n",
        "string = input(\"Enter a string :\")                                                                       #taking Input from user\n",
        "Count_Vowel(string);                                                                         #processing input through above function\n",
        "\n",
        "\n",
        "string = input(\"Enter a string :\")                                                                       #taking Input from user\n",
        "Count_Vowel(string);"
      ],
      "execution_count": null,
      "outputs": [
        {
          "output_type": "stream",
          "text": [
            "Enter a string :The Kingom Is richer.\n",
            "Count of Vowels are : 6\n",
            "Vowels are:  ['e', 'i', 'o', 'I', 'i', 'e']\n",
            "Enter a string :Count of Vowel in given string\n",
            "Count of Vowels are : 9\n",
            "Vowels are:  ['o', 'u', 'o', 'o', 'e', 'i', 'i', 'e', 'i']\n"
          ],
          "name": "stdout"
        }
      ]
    },
    {
      "cell_type": "code",
      "metadata": {
        "id": "TL_5_LNh8bmm",
        "outputId": "a114adfc-be6b-433b-8db9-95491543bf16"
      },
      "source": [
        "l=[-2, 4]\n",
        "m=map(lambda x:x*2, l)\n",
        "print(m)"
      ],
      "execution_count": null,
      "outputs": [
        {
          "output_type": "stream",
          "text": [
            "<map object at 0x0000020FD626CC10>\n"
          ],
          "name": "stdout"
        }
      ]
    },
    {
      "cell_type": "code",
      "metadata": {
        "id": "Um4UuIl_8bmm",
        "outputId": "52363997-4e9a-43f4-8eec-2ef6c1b2c01c"
      },
      "source": [
        "a={1:\"A\",2:\"B\",3:\"C\"}\n",
        "print(a.get(1,4))"
      ],
      "execution_count": null,
      "outputs": [
        {
          "output_type": "stream",
          "text": [
            "A\n"
          ],
          "name": "stdout"
        }
      ]
    },
    {
      "cell_type": "code",
      "metadata": {
        "id": "74xNDl3L8bmm",
        "outputId": "ae26806f-a7ce-4b3f-c8f6-9506ee0203f4"
      },
      "source": [
        "s1={3, 4}\n",
        "s2={1, 2}\n",
        "s3=set()\n",
        "i=0\n",
        "j=0\n",
        "for i in s1:\n",
        "    for j in s2:\n",
        "        s3.add((i,j))\n",
        "        i+=1\n",
        "        j+=1\n",
        "print(s3)\n"
      ],
      "execution_count": null,
      "outputs": [
        {
          "output_type": "stream",
          "text": [
            "{(3, 1), (4, 1), (4, 2), (5, 2)}\n"
          ],
          "name": "stdout"
        }
      ]
    },
    {
      "cell_type": "code",
      "metadata": {
        "id": "GSRcymEw8bmm",
        "outputId": "dfa6ad3d-b542-461f-f5f8-f20ca45b5bb0"
      },
      "source": [
        "def f1():\n",
        "    x=15\n",
        "    print(x)\n",
        "x=12\n",
        "f1()\n"
      ],
      "execution_count": null,
      "outputs": [
        {
          "output_type": "stream",
          "text": [
            "15\n"
          ],
          "name": "stdout"
        }
      ]
    },
    {
      "cell_type": "code",
      "metadata": {
        "id": "hJxLI2CC8bmn",
        "outputId": "a58b5324-7dc2-486a-9a7c-4a5d56987427"
      },
      "source": [
        "t=32\n",
        "[round((x-32)*5/9) for x in t]"
      ],
      "execution_count": null,
      "outputs": [
        {
          "output_type": "error",
          "ename": "TypeError",
          "evalue": "'int' object is not iterable",
          "traceback": [
            "\u001b[1;31m---------------------------------------------------------------------------\u001b[0m",
            "\u001b[1;31mTypeError\u001b[0m                                 Traceback (most recent call last)",
            "\u001b[1;32m<ipython-input-18-f67da60dc6c1>\u001b[0m in \u001b[0;36m<module>\u001b[1;34m\u001b[0m\n\u001b[0;32m      1\u001b[0m \u001b[0mt\u001b[0m\u001b[1;33m=\u001b[0m\u001b[1;36m32\u001b[0m\u001b[1;33m\u001b[0m\u001b[1;33m\u001b[0m\u001b[0m\n\u001b[1;32m----> 2\u001b[1;33m \u001b[1;33m[\u001b[0m\u001b[0mround\u001b[0m\u001b[1;33m(\u001b[0m\u001b[1;33m(\u001b[0m\u001b[0mx\u001b[0m\u001b[1;33m-\u001b[0m\u001b[1;36m32\u001b[0m\u001b[1;33m)\u001b[0m\u001b[1;33m*\u001b[0m\u001b[1;36m5\u001b[0m\u001b[1;33m/\u001b[0m\u001b[1;36m9\u001b[0m\u001b[1;33m)\u001b[0m \u001b[1;32mfor\u001b[0m \u001b[0mx\u001b[0m \u001b[1;32min\u001b[0m \u001b[0mt\u001b[0m\u001b[1;33m]\u001b[0m\u001b[1;33m\u001b[0m\u001b[1;33m\u001b[0m\u001b[0m\n\u001b[0m",
            "\u001b[1;31mTypeError\u001b[0m: 'int' object is not iterable"
          ]
        }
      ]
    },
    {
      "cell_type": "code",
      "metadata": {
        "id": "Ga1mcdik8bmn",
        "outputId": "0d055235-bfd8-4d21-d3e7-8d9365941b09"
      },
      "source": [
        "a=[1,2,3,4]\n",
        "b=[sum(a[0:x+1]) for x in range(0,len(a))]\n",
        "print(b)"
      ],
      "execution_count": null,
      "outputs": [
        {
          "output_type": "stream",
          "text": [
            "[1, 3, 6, 10]\n"
          ],
          "name": "stdout"
        }
      ]
    },
    {
      "cell_type": "code",
      "metadata": {
        "id": "OlEJO_ih8bmn",
        "outputId": "dcdadd93-77d2-4e03-d5cf-bf631d48422d"
      },
      "source": [
        "lst=[3,4,6,1,2]\n",
        "lst[1:2]=[7,8]\n",
        "print(lst)"
      ],
      "execution_count": null,
      "outputs": [
        {
          "output_type": "stream",
          "text": [
            "[3, 7, 8, 6, 1, 2]\n"
          ],
          "name": "stdout"
        }
      ]
    },
    {
      "cell_type": "code",
      "metadata": {
        "id": "4cjiRiqR8bmn",
        "outputId": "8fbe5ba7-2248-49f7-d60e-515eaf8549c9"
      },
      "source": [
        "print('abcdefcdghcd'.split('cd', -1))"
      ],
      "execution_count": null,
      "outputs": [
        {
          "output_type": "stream",
          "text": [
            "['ab', 'ef', 'gh', '']\n"
          ],
          "name": "stdout"
        }
      ]
    },
    {
      "cell_type": "code",
      "metadata": {
        "id": "YjLnBaLX8bmo",
        "outputId": "3b0128e8-55f0-432a-e6ac-e0d1dbb47d20"
      },
      "source": [
        "def permutation(remain, cande=\"\"):\n",
        " \n",
        "    if len(remain) == 0:\n",
        "        print(cande)\n",
        " \n",
        "    for i in range(len(remain)):\n",
        " \n",
        "        nc = cande + remain[i]\n",
        "        nr= remain[0:i] + remain[i+1:]\n",
        " \n",
        "        permutation(nr, nc)\n",
        " \n",
        " \n",
        " \n",
        "s = \"ABC\"\n",
        "permutation(s)"
      ],
      "execution_count": null,
      "outputs": [
        {
          "output_type": "stream",
          "text": [
            "ABC\n",
            "ACB\n",
            "BAC\n",
            "BCA\n",
            "CAB\n",
            "CBA\n"
          ],
          "name": "stdout"
        }
      ]
    },
    {
      "cell_type": "code",
      "metadata": {
        "id": "pC6YAVLG8bmo"
      },
      "source": [
        "def permutations(s):\n",
        "    partial = []\n",
        "    partial.append(s[0])\n",
        "    for i in range(1, len(s)):\n",
        "        for j in reversed(range(len(partial))):\n",
        "            curr = partial.pop(j)\n",
        "            for k in range(len(curr) + 1):\n",
        "                partial.append(curr[:k] + s[i] + curr[k:])\n",
        "    print(partial, end='')\n",
        " \n",
        " \n",
        "if __name__ == '__main__':\n",
        " \n",
        "    s = \"'0','1','2'\"\n",
        "    permutations(s)"
      ],
      "execution_count": null,
      "outputs": []
    },
    {
      "cell_type": "code",
      "metadata": {
        "id": "59OIYowX8bmo"
      },
      "source": [
        "n=int(input())\n",
        "arr=[[input(),float(input())] for _ in range(0,n)]\n",
        "arr.sort(key=lambda x: (x[1],x[0]))\n",
        "name=[i[0] for i in arr]\n",
        "mark=[i[1] for i in arr]\n",
        "mv=min(mark)\n",
        "while mark[0]==mv:\n",
        "    mark.remove(mark[0])\n",
        "    name.remove(name[0])    \n",
        "for x in range(0,len(mark)):\n",
        "    if marks[x]==min(mark):\n",
        "        print(name[x])"
      ],
      "execution_count": null,
      "outputs": []
    },
    {
      "cell_type": "code",
      "metadata": {
        "id": "B5Y0T7_M8bmo",
        "outputId": "67ab0fef-2c00-4f06-dc63-54e6da6d507d"
      },
      "source": [
        "n=int(input())\n",
        "names=[]\n",
        "scores=[]\n",
        "for i in range(n):\n",
        "    name=input()\n",
        "    names.append(name)\n",
        "    score=float(input())\n",
        "    scores.append(score)\n",
        "dic=dict(sorted(zip(names,scores)))\n",
        "\n",
        "mini=(min(scores))\n",
        "cnt=scores.count(mini)\n",
        "\n",
        "for i in range(cnt):\n",
        "    scores.remove(mini)\n",
        "minim=min(scores)\n",
        "for i,j in dic.items():\n",
        "    if j==minim:\n",
        "        print(i)"
      ],
      "execution_count": null,
      "outputs": [
        {
          "output_type": "stream",
          "text": [
            "3\n",
            "a\n",
            "30\n",
            "b\n",
            "30\n",
            "c\n",
            "29\n",
            "a\n",
            "b\n"
          ],
          "name": "stdout"
        }
      ]
    },
    {
      "cell_type": "code",
      "metadata": {
        "id": "nkLZS2k-8bmo"
      },
      "source": [
        "for i in range(1,6):\n",
        "    print (((10 ** i - 1) // 9) ** 2)"
      ],
      "execution_count": null,
      "outputs": []
    },
    {
      "cell_type": "code",
      "metadata": {
        "id": "7qCrHD-G8bmp",
        "outputId": "a0bda75f-e5c5-494f-98a0-6c9fc36ff130"
      },
      "source": [
        "for x in range(10):\n",
        "    for y in range(x):\n",
        "        print(y)"
      ],
      "execution_count": null,
      "outputs": [
        {
          "output_type": "stream",
          "text": [
            "0\n",
            "0\n",
            "1\n",
            "0\n",
            "1\n",
            "2\n",
            "0\n",
            "1\n",
            "2\n",
            "3\n",
            "0\n",
            "1\n",
            "2\n",
            "3\n",
            "4\n",
            "0\n",
            "1\n",
            "2\n",
            "3\n",
            "4\n",
            "5\n",
            "0\n",
            "1\n",
            "2\n",
            "3\n",
            "4\n",
            "5\n",
            "6\n",
            "0\n",
            "1\n",
            "2\n",
            "3\n",
            "4\n",
            "5\n",
            "6\n",
            "7\n",
            "0\n",
            "1\n",
            "2\n",
            "3\n",
            "4\n",
            "5\n",
            "6\n",
            "7\n",
            "8\n"
          ],
          "name": "stdout"
        }
      ]
    },
    {
      "cell_type": "code",
      "metadata": {
        "id": "JL2lptOV8bmp",
        "outputId": "111b05be-322f-4672-8523-2de8dab084d4"
      },
      "source": [
        "#Name : Ankit Mishra\n",
        "#Roll No : 2000320109002\n",
        "#Class : CSE2-A2\n",
        "def Sum(n) :\n",
        "    sum = 0\n",
        "    while (n > 0) :\n",
        "        sum += (n % 10);\n",
        "        n //= 10\n",
        "    return sum\n",
        "\n",
        "def Palindrome(n) :\n",
        "    divisor = 1;\n",
        "    while (n // divisor >= 10) :\n",
        "        divisor *= 10\n",
        "    while (n != 0) :\n",
        "        l = n // divisor\n",
        "        t = n % 10\n",
        "        if (l != t) :\n",
        "            return False\n",
        "        n = (n % divisor) // 10\n",
        "        divisor = divisor // 100\n",
        "    return True\n",
        "\n",
        "def SumPalindrome(n) :\n",
        "    sum = Sum(n)\n",
        "    if (Palindrome(sum)) :\n",
        "        return True\n",
        "    return False\n",
        "\n",
        "    \n",
        "t=int(input(\"Number of test cases: \"))\n",
        "for i in range(0,t):\n",
        "    n = int(input(\"Enter the Sum of Numbers :\"))\n",
        "    if (SumPalindrome(n)) :\n",
        "        print(\"Yes\")\n",
        "    else :\n",
        "        print(\"No\")"
      ],
      "execution_count": null,
      "outputs": [
        {
          "output_type": "stream",
          "text": [
            "Number of test cases: 3\n",
            "Enter the Sum of Numbers :98\n",
            "No\n",
            "Enter the Sum of Numbers :65\n",
            "Yes\n",
            "Enter the Sum of Numbers :35\n",
            "Yes\n"
          ],
          "name": "stdout"
        }
      ]
    },
    {
      "cell_type": "code",
      "metadata": {
        "id": "Bpx7LJJ08bmp",
        "outputId": "66fb3af1-fea2-4b45-9484-855aafd43546"
      },
      "source": [
        "#Name : Ankit Mishra\n",
        "#Roll No : 2000320109002\n",
        "#Class : CSE2-A2\n",
        "def Diagonals(n):\n",
        "    return n * (n - 3) / 2\n",
        " \n",
        "  \n",
        "def sides():\n",
        "    t=int(input(\"Number of test cases: \"))\n",
        "    for i in range(0,t):\n",
        "        n = int(input(\"Number of sides:\"))\n",
        "        print(\"Number of Diagonals are :\",Diagonals(n))\n",
        "\n",
        "sides()\n"
      ],
      "execution_count": null,
      "outputs": [
        {
          "output_type": "stream",
          "text": [
            "Number of test cases: 3\n",
            "Number of sides:8\n",
            "Number of Diagonals are : 20.0\n",
            "Number of sides:9\n",
            "Number of Diagonals are : 27.0\n",
            "Number of sides:7\n",
            "Number of Diagonals are : 14.0\n"
          ],
          "name": "stdout"
        }
      ]
    },
    {
      "cell_type": "code",
      "metadata": {
        "id": "xzvNlFQO8bmq",
        "outputId": "639c1dd5-57eb-41c0-da4a-67aa8ded3a13"
      },
      "source": [
        "def evenno(a):\n",
        "    \n",
        "    for i in range(1,a):\n",
        "        if (i%2)==0:\n",
        "            print(i)\n",
        "        \n",
        "a=int(input(\"Enter the Number: \"))\n",
        "evenno(a)\n",
        "        "
      ],
      "execution_count": null,
      "outputs": [
        {
          "output_type": "stream",
          "text": [
            "Enter the Number: 23\n",
            "2\n",
            "4\n",
            "6\n",
            "8\n",
            "10\n",
            "12\n",
            "14\n",
            "16\n",
            "18\n",
            "20\n",
            "22\n"
          ],
          "name": "stdout"
        }
      ]
    },
    {
      "cell_type": "code",
      "metadata": {
        "id": "zviC1jxC8bmq",
        "outputId": "f6fd053f-98e3-4884-831c-32591ab55cd0"
      },
      "source": [
        "def oddno(a):\n",
        "    \n",
        "    for i in range(1,a):\n",
        "        if (i%2)==0:\n",
        "            print(i+1)\n",
        "        \n",
        "a=int(input(\"Enter the Number: \"))\n",
        "oddno(a)"
      ],
      "execution_count": null,
      "outputs": [
        {
          "output_type": "stream",
          "text": [
            "Enter the Number: 23\n",
            "3\n",
            "5\n",
            "7\n",
            "9\n",
            "11\n",
            "13\n",
            "15\n",
            "17\n",
            "19\n",
            "21\n",
            "23\n"
          ],
          "name": "stdout"
        }
      ]
    },
    {
      "cell_type": "code",
      "metadata": {
        "id": "jVX6AWRU8bmq",
        "outputId": "8ddb9ddb-3a05-40d1-c13a-56198024fdf2"
      },
      "source": [
        "l=int(input(\"Enter Number of elements: \"))\n",
        "g=[]\n",
        "for i in range(0,l):\n",
        "    a=int(input(\"Enter elemets: \"))\n",
        "    g.append(a)\n",
        "print(\"Final List Is : \",g)\n",
        "print(\"Length of list is\",len(g))"
      ],
      "execution_count": null,
      "outputs": [
        {
          "output_type": "stream",
          "text": [
            "Enter Number of elements: 5\n",
            "Enter elemets: 23\n",
            "Enter elemets: 24\n",
            "Enter elemets: 25\n",
            "Enter elemets: 26\n",
            "Enter elemets: 27\n",
            "Final List Is :  [23, 24, 25, 26, 27]\n",
            "Length of list is 5\n"
          ],
          "name": "stdout"
        }
      ]
    },
    {
      "cell_type": "code",
      "metadata": {
        "id": "WEdSZkcH8bmq",
        "outputId": "2ef83503-2e97-4512-a563-13129055c5d4"
      },
      "source": [
        "#Name : Ankit Mishra\n",
        "#Roll No : 2000320109002\n",
        "#Class : CSE2-A2\n",
        "#Practical Name : Program to multiply two matrices using nested loops\n",
        "\n",
        "def matrixmultiply(X, Y):\n",
        "    result = [[0,0,0],[0,0,0],[0,0,0]] # result is 3x4\n",
        "    # iterate through rows of X\n",
        "    for i in range(len(X)):\n",
        "       # iterate through columns of Y\n",
        "        for j in range(len(Y[0])):\n",
        "           # iterate through rows of Y\n",
        "            for k in range(len(Y)):\n",
        "               result[i][j] += X[i][k] * Y[k][j]\n",
        "    for r in result:\n",
        "       print(r)\n",
        "    \n",
        "A = [[1,7,3],[4,5,6],[4,8,9]] # 3x4 matrix\n",
        "\n",
        "B = [[8,1,2],[3,3,0],[5,2,1]]\n",
        "\n",
        "matrixmultiply(A, B)\n"
      ],
      "execution_count": null,
      "outputs": [
        {
          "output_type": "stream",
          "text": [
            "[44, 28, 5]\n",
            "[77, 31, 14]\n",
            "[101, 46, 17]\n"
          ],
          "name": "stdout"
        }
      ]
    },
    {
      "cell_type": "code",
      "metadata": {
        "id": "6Fz6V6oY8bmq",
        "outputId": "81972263-ee5d-4419-8b6c-7df289b147c7",
        "colab": {
          "referenced_widgets": [
            "8a91d43cc287492889b987e1e67e7d93"
          ]
        }
      },
      "source": [
        "import wordcloud\n",
        "import numpy as np\n",
        "from matplotlib import pyplot as plt\n",
        "from IPython.display import display\n",
        "import fileupload\n",
        "import io\n",
        "import sys\n",
        "def _upload():\n",
        "\n",
        "    _upload_widget = fileupload.FileUploadWidget()\n",
        "\n",
        "    def _cb(change):\n",
        "        global file_contents\n",
        "        decoded = io.StringIO(change['owner'].data.decode('utf-8'))\n",
        "        filename = change['owner'].filename\n",
        "        print('Uploaded `{}` ({:.2f} kB)'.format(\n",
        "            filename, len(decoded.read()) / 2 **10))\n",
        "        file_contents = decoded.getvalue()\n",
        "\n",
        "    _upload_widget.observe(_cb, names='data')\n",
        "    display(_upload_widget)\n",
        "\n",
        "_upload()"
      ],
      "execution_count": null,
      "outputs": [
        {
          "output_type": "display_data",
          "data": {
            "application/vnd.jupyter.widget-view+json": {
              "model_id": "8a91d43cc287492889b987e1e67e7d93",
              "version_major": 2,
              "version_minor": 0
            },
            "text/plain": [
              "FileUploadWidget(label='Browse', _dom_classes=('widget_item', 'btn-group'))"
            ]
          },
          "metadata": {
            "tags": []
          }
        },
        {
          "output_type": "stream",
          "text": [
            "Uploaded `data.txt` (5.19 kB)\n"
          ],
          "name": "stdout"
        }
      ]
    },
    {
      "cell_type": "code",
      "metadata": {
        "id": "sJIvU-Jz8bmr",
        "outputId": "53ff4bc1-055d-4dab-832b-60c4c703a980"
      },
      "source": [
        "count = 0;  \n",
        "word = \"\";  \n",
        "maxCount = 0;  \n",
        "words = [];  \n",
        "\n",
        "#Opens a file in read mode  \n",
        "file = open(\"data.txt\", \"r\")  \n",
        "\n",
        "#Gets each line till end of file is reached  \n",
        "for line in file:  \n",
        "    #Splits each line into words  \n",
        "    string = line.lower().replace(',','').replace('.','').split(\" \");  \n",
        "    #Adding all words generated in previous step into words  \n",
        "    for s in string:  \n",
        "        words.append(s);  \n",
        "\n",
        "#Determine the most repeated word in a file  \n",
        "for i in range(0, len(words)):  \n",
        "    count = 1;  \n",
        "    #Count each word in the file and store it in variable count  \n",
        "    for j in range(i+1, len(words)):  \n",
        "        if(words[i] == words[j]):  \n",
        "            count = count + 1;  \n",
        "\n",
        "    #If maxCount is less than count then store value of count in maxCount\n",
        "    #and corresponding word to variable word  \n",
        "if(count >maxCount):  \n",
        "    maxCount = count;  \n",
        "    word = words[i];  \n",
        "\n",
        "print(\"Most repeated word: \" + word);  \n",
        "file.close();  \n"
      ],
      "execution_count": null,
      "outputs": [
        {
          "output_type": "error",
          "ename": "FileNotFoundError",
          "evalue": "[Errno 2] No such file or directory: 'data.txt'",
          "traceback": [
            "\u001b[1;31m---------------------------------------------------------------------------\u001b[0m",
            "\u001b[1;31mFileNotFoundError\u001b[0m                         Traceback (most recent call last)",
            "\u001b[1;32m<ipython-input-34-cf5993b19895>\u001b[0m in \u001b[0;36m<module>\u001b[1;34m\u001b[0m\n\u001b[0;32m      5\u001b[0m \u001b[1;33m\u001b[0m\u001b[0m\n\u001b[0;32m      6\u001b[0m \u001b[1;31m#Opens a file in read mode\u001b[0m\u001b[1;33m\u001b[0m\u001b[1;33m\u001b[0m\u001b[1;33m\u001b[0m\u001b[0m\n\u001b[1;32m----> 7\u001b[1;33m \u001b[0mfile\u001b[0m \u001b[1;33m=\u001b[0m \u001b[0mopen\u001b[0m\u001b[1;33m(\u001b[0m\u001b[1;34m\"data.txt\"\u001b[0m\u001b[1;33m,\u001b[0m \u001b[1;34m\"r\"\u001b[0m\u001b[1;33m)\u001b[0m\u001b[1;33m\u001b[0m\u001b[1;33m\u001b[0m\u001b[0m\n\u001b[0m\u001b[0;32m      8\u001b[0m \u001b[1;33m\u001b[0m\u001b[0m\n\u001b[0;32m      9\u001b[0m \u001b[1;31m#Gets each line till end of file is reached\u001b[0m\u001b[1;33m\u001b[0m\u001b[1;33m\u001b[0m\u001b[1;33m\u001b[0m\u001b[0m\n",
            "\u001b[1;31mFileNotFoundError\u001b[0m: [Errno 2] No such file or directory: 'data.txt'"
          ]
        }
      ]
    },
    {
      "cell_type": "code",
      "metadata": {
        "id": "H3sU2YqT8bmr"
      },
      "source": [
        "file1 = open(\"data.txt\",\"a\")"
      ],
      "execution_count": null,
      "outputs": []
    },
    {
      "cell_type": "code",
      "metadata": {
        "id": "QJBUZCS08bmr"
      },
      "source": [
        ""
      ],
      "execution_count": null,
      "outputs": []
    }
  ]
}